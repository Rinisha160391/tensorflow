{
  "nbformat": 4,
  "nbformat_minor": 0,
  "metadata": {
    "colab": {
      "provenance": [],
      "authorship_tag": "ABX9TyN6Czn3JnJV5VBO0WYHSGrl",
      "include_colab_link": true
    },
    "kernelspec": {
      "name": "python3",
      "display_name": "Python 3"
    },
    "language_info": {
      "name": "python"
    }
  },
  "cells": [
    {
      "cell_type": "markdown",
      "metadata": {
        "id": "view-in-github",
        "colab_type": "text"
      },
      "source": [
        "<a href=\"https://colab.research.google.com/github/Rinisha160391/tensorflow/blob/main/tensorflow_practice.ipynb\" target=\"_parent\"><img src=\"https://colab.research.google.com/assets/colab-badge.svg\" alt=\"Open In Colab\"/></a>"
      ]
    },
    {
      "cell_type": "code",
      "execution_count": 3,
      "metadata": {
        "id": "CahL3_hVhJjL"
      },
      "outputs": [],
      "source": [
        "import tensorflow as tf"
      ]
    },
    {
      "cell_type": "code",
      "source": [
        "print(tf.__version__)"
      ],
      "metadata": {
        "colab": {
          "base_uri": "https://localhost:8080/"
        },
        "id": "Gk9lfrcPhy6E",
        "outputId": "cb2ed0b1-9591-4334-a050-4a59a0e89f9e"
      },
      "execution_count": 4,
      "outputs": [
        {
          "output_type": "stream",
          "name": "stdout",
          "text": [
            "2.12.0\n"
          ]
        }
      ]
    },
    {
      "cell_type": "markdown",
      "source": [
        "#Initialize a tensor"
      ],
      "metadata": {
        "id": "ZDZ0iBQyOPdL"
      }
    },
    {
      "cell_type": "markdown",
      "source": [
        "tensor is an nD array(\n",
        "vector - 1D tensor,\n",
        "matrix - 2D tensor)"
      ],
      "metadata": {
        "id": "w1yL_Jdm9GRS"
      }
    },
    {
      "cell_type": "code",
      "source": [
        "x=tf.constant(4)\n",
        "print(x)\n",
        "y=tf.constant(5,shape=(2,2))\n",
        "print(y)\n",
        "z=tf.constant([[1,2,3],[4,5,6]])\n",
        "print(z)"
      ],
      "metadata": {
        "colab": {
          "base_uri": "https://localhost:8080/"
        },
        "id": "kspI5k718csn",
        "outputId": "1d373197-d571-45e4-ac18-f12752b03b6f"
      },
      "execution_count": 15,
      "outputs": [
        {
          "output_type": "stream",
          "name": "stdout",
          "text": [
            "tf.Tensor(4, shape=(), dtype=int32)\n",
            "tf.Tensor(\n",
            "[[5 5]\n",
            " [5 5]], shape=(2, 2), dtype=int32)\n",
            "tf.Tensor(\n",
            "[[1 2 3]\n",
            " [4 5 6]], shape=(2, 3), dtype=int32)\n"
          ]
        }
      ]
    },
    {
      "cell_type": "code",
      "source": [
        "print(tf.ones((3,3)))\n",
        "print(tf.zeros((4,4)))\n",
        "print(tf.eye((3))) #identical matrix"
      ],
      "metadata": {
        "colab": {
          "base_uri": "https://localhost:8080/"
        },
        "id": "mci6MvntMuKR",
        "outputId": "13b5aea5-9c31-4cc8-b99c-55e1458cc25d"
      },
      "execution_count": 22,
      "outputs": [
        {
          "output_type": "stream",
          "name": "stdout",
          "text": [
            "tf.Tensor(\n",
            "[[1. 1. 1.]\n",
            " [1. 1. 1.]\n",
            " [1. 1. 1.]], shape=(3, 3), dtype=float32)\n",
            "tf.Tensor(\n",
            "[[0. 0. 0. 0.]\n",
            " [0. 0. 0. 0.]\n",
            " [0. 0. 0. 0.]\n",
            " [0. 0. 0. 0.]], shape=(4, 4), dtype=float32)\n",
            "tf.Tensor(\n",
            "[[1. 0. 0.]\n",
            " [0. 1. 0.]\n",
            " [0. 0. 1.]], shape=(3, 3), dtype=float32)\n"
          ]
        }
      ]
    },
    {
      "cell_type": "code",
      "source": [
        "print(tf.random.normal((3,3),mean=0,stddev=1))\n",
        "print(tf.random.uniform((3,3),minval=1,maxval=5))\n",
        "print(tf.range(10))"
      ],
      "metadata": {
        "colab": {
          "base_uri": "https://localhost:8080/"
        },
        "id": "kK6X6KjAOU3F",
        "outputId": "a7fb4b6f-1b73-4966-f069-73af26f94e48"
      },
      "execution_count": 25,
      "outputs": [
        {
          "output_type": "stream",
          "name": "stdout",
          "text": [
            "tf.Tensor(\n",
            "[[ 1.177441    1.719767    1.1337433 ]\n",
            " [ 2.503924   -1.4244683   0.24762847]\n",
            " [-0.7016131  -0.04552308  0.8359228 ]], shape=(3, 3), dtype=float32)\n",
            "tf.Tensor(\n",
            "[[4.4980235 2.810925  2.4090233]\n",
            " [3.1698475 2.0578904 3.1582212]\n",
            " [3.600151  4.3941135 1.086031 ]], shape=(3, 3), dtype=float32)\n",
            "tf.Tensor([0 1 2 3 4 5 6 7 8 9], shape=(10,), dtype=int32)\n"
          ]
        }
      ]
    },
    {
      "cell_type": "code",
      "source": [
        "x=tf.range(10)\n",
        "tf.cast(x,dtype=tf.float64)"
      ],
      "metadata": {
        "colab": {
          "base_uri": "https://localhost:8080/"
        },
        "id": "iej4TbMFPqMb",
        "outputId": "af71ef70-c6af-48a9-b5b5-13531472422a"
      },
      "execution_count": 28,
      "outputs": [
        {
          "output_type": "execute_result",
          "data": {
            "text/plain": [
              "<tf.Tensor: shape=(10,), dtype=float64, numpy=array([0., 1., 2., 3., 4., 5., 6., 7., 8., 9.])>"
            ]
          },
          "metadata": {},
          "execution_count": 28
        }
      ]
    },
    {
      "cell_type": "markdown",
      "source": [
        "#Mathematical operations"
      ],
      "metadata": {
        "id": "Al01_JbCR6s2"
      }
    },
    {
      "cell_type": "code",
      "source": [
        "x=tf.constant([4,5,6])\n",
        "y=tf.constant([1,2,3])\n",
        "print(tf.add(x,y))\n",
        "print(tf.subtract(x,y))\n",
        "print(tf.multiply(x,y))\n",
        "print(tf.divide(x,y))\n",
        "print(tf.tensordot(x,y,axes=1))"
      ],
      "metadata": {
        "colab": {
          "base_uri": "https://localhost:8080/"
        },
        "id": "t41dHHvoQZhL",
        "outputId": "1fc7c2ed-d565-4ba4-bdf3-667c51b71b72"
      },
      "execution_count": 36,
      "outputs": [
        {
          "output_type": "stream",
          "name": "stdout",
          "text": [
            "tf.Tensor([5 7 9], shape=(3,), dtype=int32)\n",
            "tf.Tensor([3 3 3], shape=(3,), dtype=int32)\n",
            "tf.Tensor([ 4 10 18], shape=(3,), dtype=int32)\n",
            "tf.Tensor([4.  2.5 2. ], shape=(3,), dtype=float64)\n",
            "tf.Tensor(32, shape=(), dtype=int32)\n"
          ]
        }
      ]
    },
    {
      "cell_type": "code",
      "source": [
        "x=tf.random.normal((3,3))\n",
        "y=tf.random.normal((3,2))\n",
        "print(tf.matmul(x,y))"
      ],
      "metadata": {
        "colab": {
          "base_uri": "https://localhost:8080/"
        },
        "id": "BrPapwgnSEn7",
        "outputId": "ce133a9f-4713-4efb-ef0b-c282ad46b8fc"
      },
      "execution_count": 41,
      "outputs": [
        {
          "output_type": "stream",
          "name": "stdout",
          "text": [
            "tf.Tensor(\n",
            "[[ 1.3156625  -2.1346502 ]\n",
            " [-0.84840727  0.9630437 ]\n",
            " [-1.2156175   2.4421413 ]], shape=(3, 2), dtype=float32)\n"
          ]
        }
      ]
    },
    {
      "cell_type": "code",
      "source": [
        "print(x[1,:]) #indexing\n",
        "print(tf.reshape(x,(9)))\n",
        "print(tf.transpose(x))"
      ],
      "metadata": {
        "colab": {
          "base_uri": "https://localhost:8080/"
        },
        "id": "AmVrKbO5TPQE",
        "outputId": "c545e78a-e4db-4d26-da1d-b8682f90d79d"
      },
      "execution_count": 48,
      "outputs": [
        {
          "output_type": "stream",
          "name": "stdout",
          "text": [
            "tf.Tensor([ 0.5360431  -0.40060416 -2.4180079 ], shape=(3,), dtype=float32)\n",
            "tf.Tensor(\n",
            "[-0.6347146  -0.9841645  -0.05858905  0.5360431  -0.40060416 -2.4180079\n",
            "  1.0044726   0.802922   -0.54611355], shape=(9,), dtype=float32)\n",
            "tf.Tensor(\n",
            "[[-0.6347146   0.5360431   1.0044726 ]\n",
            " [-0.9841645  -0.40060416  0.802922  ]\n",
            " [-0.05858905 -2.4180079  -0.54611355]], shape=(3, 3), dtype=float32)\n"
          ]
        }
      ]
    },
    {
      "cell_type": "code",
      "source": [],
      "metadata": {
        "id": "i1yPA5tvUXot"
      },
      "execution_count": null,
      "outputs": []
    }
  ]
}