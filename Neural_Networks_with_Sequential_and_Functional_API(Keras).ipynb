{
  "nbformat": 4,
  "nbformat_minor": 0,
  "metadata": {
    "colab": {
      "provenance": [],
      "authorship_tag": "ABX9TyNaxTrNQovYCp9DigMogZEI",
      "include_colab_link": true
    },
    "kernelspec": {
      "name": "python3",
      "display_name": "Python 3"
    },
    "language_info": {
      "name": "python"
    }
  },
  "cells": [
    {
      "cell_type": "markdown",
      "metadata": {
        "id": "view-in-github",
        "colab_type": "text"
      },
      "source": [
        "<a href=\"https://colab.research.google.com/github/Rinisha160391/tensorflow/blob/main/Neural_Networks_with_Sequential_and_Functional_API(Keras).ipynb\" target=\"_parent\"><img src=\"https://colab.research.google.com/assets/colab-badge.svg\" alt=\"Open In Colab\"/></a>"
      ]
    },
    {
      "cell_type": "code",
      "execution_count": 7,
      "metadata": {
        "id": "KLqOmpArcpiP"
      },
      "outputs": [],
      "source": [
        "import tensorflow as tf\n",
        "from tensorflow import keras\n",
        "from tensorflow.keras import layers\n",
        "from tensorflow.keras.datasets import mnist"
      ]
    },
    {
      "cell_type": "code",
      "source": [
        "#load mnist data\n",
        "(x_train,y_train),(x_test,y_test)=mnist.load_data()"
      ],
      "metadata": {
        "colab": {
          "base_uri": "https://localhost:8080/"
        },
        "id": "0lM3HjtyeT0_",
        "outputId": "1411d7fd-4410-4c4c-e23c-e36825bdc0e2"
      },
      "execution_count": 8,
      "outputs": [
        {
          "output_type": "stream",
          "name": "stdout",
          "text": [
            "Downloading data from https://storage.googleapis.com/tensorflow/tf-keras-datasets/mnist.npz\n",
            "11490434/11490434 [==============================] - 0s 0us/step\n"
          ]
        }
      ]
    },
    {
      "cell_type": "code",
      "source": [
        "print(x_train.shape)\n",
        "print(y_train.shape)\n",
        "print(x_test.shape)\n",
        "print(y_test.shape)"
      ],
      "metadata": {
        "colab": {
          "base_uri": "https://localhost:8080/"
        },
        "id": "kv21lHaMet6s",
        "outputId": "9244b57d-4b74-4a1f-f68c-d57a5e9ee78c"
      },
      "execution_count": 9,
      "outputs": [
        {
          "output_type": "stream",
          "name": "stdout",
          "text": [
            "(60000, 28, 28)\n",
            "(60000,)\n",
            "(10000, 28, 28)\n",
            "(10000,)\n"
          ]
        }
      ]
    },
    {
      "cell_type": "code",
      "source": [
        "#mnist images are 2D 28X28 size. Flatten it to 1D 784(28X28)\n",
        "#why flattening?\n",
        "#Input Requirements: Fully connected layers expect a 1D array as input. Flattening transforms the image data into a format compatible with these layers.\n",
        "#Feature Extraction: Flattening treats each pixel as a separate feature. While this might not capture spatial relationships in images, fully connected networks can still learn important patterns.\n",
        "\n",
        "\n",
        "#Normalization- bring the values from 0-255 to 0-1 for faster training\n",
        "#normalization of input data is a best practice that promotes better convergence, stability, and generalization of machine learning models, especially when working with neural networks.\n",
        "\n",
        "\n",
        "x_train=x_train.reshape(-1,28*28).astype(\"float32\")/255.0\n",
        "x_test=x_test.reshape(-1,28*28).astype(\"float32\")/255.0"
      ],
      "metadata": {
        "id": "hzPwz5eZfM70"
      },
      "execution_count": 10,
      "outputs": []
    },
    {
      "cell_type": "code",
      "source": [
        "print(x_train.shape)\n",
        "print(y_train.shape)\n",
        "print(x_test.shape)\n",
        "print(y_test.shape)"
      ],
      "metadata": {
        "colab": {
          "base_uri": "https://localhost:8080/"
        },
        "id": "NFY3TZOll46E",
        "outputId": "3d86dfd7-6c8d-4549-fd5e-eb0665fde2fd"
      },
      "execution_count": 11,
      "outputs": [
        {
          "output_type": "stream",
          "name": "stdout",
          "text": [
            "(60000, 784)\n",
            "(60000,)\n",
            "(10000, 784)\n",
            "(10000,)\n"
          ]
        }
      ]
    },
    {
      "cell_type": "code",
      "source": [
        "from tensorflow.keras.models import Sequential"
      ],
      "metadata": {
        "id": "TrIgUOr1oK6N"
      },
      "execution_count": 12,
      "outputs": []
    },
    {
      "cell_type": "code",
      "source": [
        "model=Sequential([\n",
        "    keras.Input(shape=(28*28)),\n",
        "    layers.Dense(512,activation='relu'),\n",
        "    layers.Dense(128,activation='relu'),\n",
        "    layers.Dense(10,activation='softmax')]\n",
        ")"
      ],
      "metadata": {
        "id": "ycvzYedOLNEA"
      },
      "execution_count": 27,
      "outputs": []
    },
    {
      "cell_type": "code",
      "source": [
        "model.compile(\n",
        "    loss=keras.losses.SparseCategoricalCrossentropy(from_logits=True),\n",
        "    optimizer=keras.optimizers.Adam(learning_rate=0.001),\n",
        "    metrics=[\"accuracy\"]\n",
        ")"
      ],
      "metadata": {
        "id": "KqsUGl4EMGkN"
      },
      "execution_count": 31,
      "outputs": []
    },
    {
      "cell_type": "code",
      "source": [
        "model.fit(x_train,y_train,batch_size=32,epochs=5)"
      ],
      "metadata": {
        "colab": {
          "base_uri": "https://localhost:8080/"
        },
        "id": "ce9NQvwOOBXW",
        "outputId": "70f1682f-7fa5-446a-d6a9-48d32a5737ea"
      },
      "execution_count": 24,
      "outputs": [
        {
          "output_type": "stream",
          "name": "stdout",
          "text": [
            "Epoch 1/5\n",
            "1875/1875 [==============================] - 20s 11ms/step - loss: 0.1129 - accuracy: 0.9654\n",
            "Epoch 2/5\n",
            "1875/1875 [==============================] - 20s 11ms/step - loss: 0.0658 - accuracy: 0.9797\n",
            "Epoch 3/5\n",
            "1875/1875 [==============================] - 22s 11ms/step - loss: 0.0488 - accuracy: 0.9844\n",
            "Epoch 4/5\n",
            "1875/1875 [==============================] - 20s 10ms/step - loss: 0.0368 - accuracy: 0.9885\n",
            "Epoch 5/5\n",
            "1875/1875 [==============================] - 20s 11ms/step - loss: 0.0286 - accuracy: 0.9911\n"
          ]
        },
        {
          "output_type": "execute_result",
          "data": {
            "text/plain": [
              "<keras.callbacks.History at 0x7dfb4bcc4ca0>"
            ]
          },
          "metadata": {},
          "execution_count": 24
        }
      ]
    },
    {
      "cell_type": "code",
      "source": [
        "print(model.summary())"
      ],
      "metadata": {
        "colab": {
          "base_uri": "https://localhost:8080/"
        },
        "id": "bzIk7tZJOjfN",
        "outputId": "3b99e253-7940-4dd0-9db1-697a7f3d49a4"
      },
      "execution_count": 29,
      "outputs": [
        {
          "output_type": "stream",
          "name": "stdout",
          "text": [
            "Model: \"sequential_1\"\n",
            "_________________________________________________________________\n",
            " Layer (type)                Output Shape              Param #   \n",
            "=================================================================\n",
            " dense_6 (Dense)             (None, 512)               401920    \n",
            "                                                                 \n",
            " dense_7 (Dense)             (None, 128)               65664     \n",
            "                                                                 \n",
            " dense_8 (Dense)             (None, 10)                1290      \n",
            "                                                                 \n",
            "=================================================================\n",
            "Total params: 468,874\n",
            "Trainable params: 468,874\n",
            "Non-trainable params: 0\n",
            "_________________________________________________________________\n",
            "None\n"
          ]
        }
      ]
    },
    {
      "cell_type": "code",
      "source": [
        "model.evaluate(x_test,y_test)"
      ],
      "metadata": {
        "colab": {
          "base_uri": "https://localhost:8080/"
        },
        "id": "yKLLDl3bPeEX",
        "outputId": "83563573-b90f-4487-ce6c-ad7948d74859"
      },
      "execution_count": 32,
      "outputs": [
        {
          "output_type": "stream",
          "name": "stdout",
          "text": [
            "\r  1/313 [..............................] - ETA: 1:20 - loss: 2.2727 - accuracy: 0.1250"
          ]
        },
        {
          "output_type": "stream",
          "name": "stderr",
          "text": [
            "/usr/local/lib/python3.10/dist-packages/keras/backend.py:5612: UserWarning: \"`sparse_categorical_crossentropy` received `from_logits=True`, but the `output` argument was produced by a Softmax activation and thus does not represent logits. Was this intended?\n",
            "  output, from_logits = _get_logits(\n"
          ]
        },
        {
          "output_type": "stream",
          "name": "stdout",
          "text": [
            "313/313 [==============================] - 1s 4ms/step - loss: 2.3802 - accuracy: 0.1009\n"
          ]
        },
        {
          "output_type": "execute_result",
          "data": {
            "text/plain": [
              "[2.380190134048462, 0.10090000182390213]"
            ]
          },
          "metadata": {},
          "execution_count": 32
        }
      ]
    },
    {
      "cell_type": "code",
      "source": [
        "#The Sequential API and the Functional API are two different ways to build and define neural network architectures in deep learning frameworks like Keras\n",
        "# Sequential API:\n",
        "\n",
        "# Use Case: The Sequential API is best suited for building simple, linear architectures where data flows sequentially from input to output.\n",
        "# Functional API:\n",
        "\n",
        "# Use Case: The Functional API is more flexible and powerful, allowing you to create complex architectures with multiple inputs, multiple outputs, shared layers, and branching."
      ],
      "metadata": {
        "id": "acSrxD7-RtR4"
      },
      "execution_count": 33,
      "outputs": []
    },
    {
      "cell_type": "code",
      "source": [
        "#functional API\n",
        "input=keras.Input(shape=(784))\n",
        "x=layers.Dense(512,activation='relu')(input)\n",
        "x=layers.Dense(128,activation='relu')(x)\n",
        "output=layers.Dense(10,activation='softmax')(x)\n",
        "model=keras.Model(inputs=input,outputs=output)"
      ],
      "metadata": {
        "id": "gpP8Fl3fTEUN"
      },
      "execution_count": 40,
      "outputs": []
    },
    {
      "cell_type": "code",
      "source": [
        "model.summary()"
      ],
      "metadata": {
        "colab": {
          "base_uri": "https://localhost:8080/"
        },
        "id": "4Ps_PU9NTN7x",
        "outputId": "85e804ad-2848-47e9-9050-37e63389dcd6"
      },
      "execution_count": 41,
      "outputs": [
        {
          "output_type": "stream",
          "name": "stdout",
          "text": [
            "Model: \"model_1\"\n",
            "_________________________________________________________________\n",
            " Layer (type)                Output Shape              Param #   \n",
            "=================================================================\n",
            " input_7 (InputLayer)        [(None, 784)]             0         \n",
            "                                                                 \n",
            " dense_19 (Dense)            (None, 512)               401920    \n",
            "                                                                 \n",
            " dense_20 (Dense)            (None, 128)               65664     \n",
            "                                                                 \n",
            " dense_21 (Dense)            (None, 10)                1290      \n",
            "                                                                 \n",
            "=================================================================\n",
            "Total params: 468,874\n",
            "Trainable params: 468,874\n",
            "Non-trainable params: 0\n",
            "_________________________________________________________________\n"
          ]
        }
      ]
    },
    {
      "cell_type": "code",
      "source": [],
      "metadata": {
        "id": "meAgQcqZUGb3"
      },
      "execution_count": null,
      "outputs": []
    }
  ]
}